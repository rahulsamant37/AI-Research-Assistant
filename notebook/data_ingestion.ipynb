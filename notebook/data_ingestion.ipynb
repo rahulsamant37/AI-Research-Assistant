{
 "cells": [
  {
   "cell_type": "code",
   "execution_count": 3,
   "metadata": {},
   "outputs": [
    {
     "data": {
      "text/plain": [
       "'/workspaces/AI-Research-Assistant/notebook'"
      ]
     },
     "execution_count": 3,
     "metadata": {},
     "output_type": "execute_result"
    }
   ],
   "source": [
    "%pwd"
   ]
  },
  {
   "cell_type": "code",
   "execution_count": 4,
   "metadata": {},
   "outputs": [
    {
     "data": {
      "text/plain": [
       "'/workspaces/AI-Research-Assistant'"
      ]
     },
     "execution_count": 4,
     "metadata": {},
     "output_type": "execute_result"
    }
   ],
   "source": [
    "import os\n",
    "os.chdir(\"../\")\n",
    "%pwd"
   ]
  },
  {
   "cell_type": "code",
   "execution_count": 7,
   "metadata": {},
   "outputs": [],
   "source": [
    "from dataclasses import dataclass\n",
    "from pathlib import Path\n",
    "from typing import List\n",
    "\n",
    "@dataclass\n",
    "class DataIngestionConfig:\n",
    "    root_dir: Path\n",
    "    FOLDER_ID_NP: str\n",
    "    FOLDER_ID_P: List[str]\n",
    "    DOWNLOAD_PATH_NP: Path\n",
    "    DOWNLOAD_PATH_P: Path\n",
    "    CREDENTIALS_FILE: Path"
   ]
  },
  {
   "cell_type": "code",
   "execution_count": 8,
   "metadata": {},
   "outputs": [],
   "source": [
    "from src.constants import *\n",
    "from src.utils.common import read_yaml, create_directories"
   ]
  },
  {
   "cell_type": "code",
   "execution_count": 9,
   "metadata": {},
   "outputs": [],
   "source": [
    "class ConfigurationManager:\n",
    "    def __init__(self,\n",
    "                 config_filepath=CONFIG_FILE_PATH,\n",
    "                 params_filepath=PARAMS_FILE_PATH,\n",
    "                 schema_filepath=SCHEMA_FILE_PATH):\n",
    "        self.config = read_yaml(config_filepath)\n",
    "        self.params = read_yaml(params_filepath)\n",
    "        self.schema = read_yaml(schema_filepath)\n",
    "\n",
    "        create_directories([self.config.artifacts_root])\n",
    "\n",
    "    def get_data_ingestion_config(self) -> DataIngestionConfig:\n",
    "        config = self.config.data_ingestion\n",
    "        create_directories([config.root_dir])\n",
    "\n",
    "        data_ingestion_config = DataIngestionConfig(\n",
    "            root_dir=config.root_dir,\n",
    "            FOLDER_ID_NP=config.FOLDER_ID_NP,\n",
    "            FOLDER_ID_P=config.FOLDER_ID_P,\n",
    "            DOWNLOAD_PATH_NP=config.DOWNLOAD_PATH_NP,\n",
    "            DOWNLOAD_PATH_P=config.DOWNLOAD_PATH_P,\n",
    "            CREDENTIALS_FILE=config.CREDENTIALS_FILE\n",
    "        )\n",
    "        return data_ingestion_config"
   ]
  },
  {
   "cell_type": "code",
   "execution_count": 10,
   "metadata": {},
   "outputs": [],
   "source": [
    "import pathway as pw\n",
    "from google.oauth2.service_account import Credentials as ServiceCredentials\n",
    "import os"
   ]
  },
  {
   "cell_type": "code",
   "execution_count": null,
   "metadata": {},
   "outputs": [],
   "source": [
    "# Initialize the GDrive client\n",
    "def initialize_gdrive_client(credentials_file, file_name_pattern):\n",
    "    credentials = ServiceCredentials.from_service_account_file(credentials_file)\n",
    "    client = pw.io.gdrive._GDriveClient(\n",
    "        credentials=credentials,\n",
    "        file_name_pattern=file_name_pattern\n",
    "    )\n",
    "    return client\n",
    "\n",
    "# Download all PDF files from the specified folder\n",
    "def download_pdfs_from_folder(client, folder_id, download_path):\n",
    "    # Ensure the download directory exists\n",
    "    os.makedirs(download_path, exist_ok=True)\n",
    "\n",
    "    # Retrieve the list of PDF files in the folder\n",
    "    pdf_files = client._ls(folder_id)\n",
    "\n",
    "    # Download each PDF file\n",
    "    for file in pdf_files:\n",
    "        file_id = file['id']\n",
    "        file_name = file['name']\n",
    "        file_path = os.path.join(download_path, file_name)\n",
    "\n",
    "        # Download the file content\n",
    "        file_content = client.download(file)\n",
    "\n",
    "        if file_content:\n",
    "            # Save the file to the specified directory\n",
    "            with open(file_path, 'wb') as f:\n",
    "                f.write(file_content)\n",
    "            print(f\"Downloaded: {file_name}\")\n",
    "        else:\n",
    "            print(f\"Failed to download: {file_name}\")\n",
    "# Replace with your folder ID and path to the credentials file\n",
    "FOLDER_ID_NP = '1_xFmMlrNDR0wzzPsv6wXXdGz0eX6vaYb'\n",
    "CREDENTIALS_FILE = 'credentials.json'\n",
    "DOWNLOAD_PATH_NP = 'artifacts/data_ingestion/Non-Publishable'\n",
    "FOLDER_ID_P = ['1RifJJBjm5tA8E20808RjvkIAiWnFbceb', '1JVzabziJf4d2drCTXFssFr_wZMnjr8oT', '1sJKv0o5ySrigZewU_wtTxysx9j0kO_nV', '1ZgkbpvhoNKUuH0b4uCv30lyWg3-5ijTC', '13eDgt0YghQU2qlogGrTrXJzfD0h0F2Iw']\n",
    "DOWNLOAD_PATH_P= 'artifacts/data_ingestion/Publishable'\n",
    "# Initialize the client\n",
    "gdrive_client = initialize_gdrive_client(CREDENTIALS_FILE, '*.pdf')\n",
    "# Download the PDFs\n",
    "download_pdfs_from_folder(gdrive_client, FOLDER_ID_NP, DOWNLOAD_PATH_NP)\n",
    "# Corrected loop for downloading PDFs from multiple folders\n",
    "for folder_id in FOLDER_ID_P:\n",
    "    download_pdfs_from_folder(gdrive_client, folder_id, DOWNLOAD_PATH_P)\n"
   ]
  },
  {
   "cell_type": "code",
   "execution_count": 38,
   "metadata": {},
   "outputs": [],
   "source": [
    "class DataIngestion: \n",
    "    def __init__(self, config: DataIngestionConfig):\n",
    "        self.config = config\n",
    "\n",
    "    def initialize_gdrive_client(self):\n",
    "        \"\"\"Initialize the Google Drive client.\"\"\"\n",
    "        credentials = ServiceCredentials.from_service_account_file(str(self.config.CREDENTIALS_FILE))\n",
    "        client = pw.io.gdrive._GDriveClient(\n",
    "            credentials=credentials\n",
    "        )\n",
    "        return client\n",
    "\n",
    "    def download_pdfs_from_folder(self, folder_id: str, download_path: Path):\n",
    "        \"\"\"Download PDF files from a specific Google Drive folder.\"\"\"\n",
    "        try:\n",
    "            download_path = Path(download_path)\n",
    "            gdrive_client = self.initialize_gdrive_client()\n",
    "            \n",
    "\n",
    "            os.makedirs(download_path, exist_ok=True)\n",
    "            pdf_files = gdrive_client._ls(folder_id)\n",
    "            \n",
    "\n",
    "            for file in pdf_files:\n",
    "                file_id = file['id']\n",
    "                file_name = file['name']\n",
    "                file_path = download_path / file_name\n",
    "                file_content = gdrive_client.download(file)\n",
    "                \n",
    "                if file_content:\n",
    "                    with open(file_path, 'wb') as f:\n",
    "                        f.write(file_content)\n",
    "                    print(f\"Downloaded: {file_name}\")\n",
    "                else:\n",
    "                    print(f\"Failed to download: {file_name}\")\n",
    "        except Exception as e:\n",
    "            print(f\"Error downloading files from folder {folder_id}: {e}\")\n",
    "            raise e\n",
    "\n",
    "    def download(self):\n",
    "        \"\"\"Download PDFs from both non-publishable and publishable folders.\"\"\"\n",
    "        try:\n",
    "            self.download_pdfs_from_folder(self.config.FOLDER_ID_NP, self.config.DOWNLOAD_PATH_NP)\n",
    "            for folder_id in self.config.FOLDER_ID_P:\n",
    "                self.download_pdfs_from_folder(folder_id, self.config.DOWNLOAD_PATH_P)\n",
    "        except Exception as e:\n",
    "            print(f\"Error during the download process: {e}\")\n",
    "            raise e\n"
   ]
  },
  {
   "cell_type": "code",
   "execution_count": 39,
   "metadata": {},
   "outputs": [
    {
     "name": "stdout",
     "output_type": "stream",
     "text": [
      "[2025-01-05 07:52:03,222: INFO: common: yaml file: config/config.yaml loaded successfully]\n",
      "[2025-01-05 07:52:03,223: INFO: common: yaml file: params.yaml loaded successfully]\n",
      "[2025-01-05 07:52:03,225: INFO: common: yaml file: schema.yaml loaded successfully]\n",
      "[2025-01-05 07:52:03,225: INFO: common: created directory at: artifacts]\n",
      "[2025-01-05 07:52:03,226: INFO: common: created directory at: artifacts/data_ingestion]\n",
      "[2025-01-05 07:52:03,229: INFO: __init__: file_cache is only supported with oauth2client<4.0.0]\n",
      "Downloaded: R004.pdf\n",
      "Downloaded: R003.pdf\n",
      "Downloaded: R002.pdf\n",
      "Downloaded: R001.pdf\n",
      "Downloaded: R005.pdf\n",
      "[2025-01-05 07:52:18,840: INFO: __init__: file_cache is only supported with oauth2client<4.0.0]\n",
      "Downloaded: R007.pdf\n",
      "Downloaded: R006.pdf\n",
      "[2025-01-05 07:52:25,831: INFO: __init__: file_cache is only supported with oauth2client<4.0.0]\n",
      "Downloaded: R008.pdf\n",
      "Downloaded: R009.pdf\n",
      "[2025-01-05 07:52:32,591: INFO: __init__: file_cache is only supported with oauth2client<4.0.0]\n",
      "Downloaded: R010.pdf\n",
      "Downloaded: R011.pdf\n",
      "[2025-01-05 07:52:40,886: INFO: __init__: file_cache is only supported with oauth2client<4.0.0]\n",
      "Downloaded: R013.pdf\n",
      "Downloaded: R012.pdf\n",
      "[2025-01-05 07:52:47,790: INFO: __init__: file_cache is only supported with oauth2client<4.0.0]\n",
      "Downloaded: R014.pdf\n",
      "Downloaded: R015.pdf\n"
     ]
    }
   ],
   "source": [
    "try:\n",
    "    config = ConfigurationManager()\n",
    "    data_ingestion_config = config.get_data_ingestion_config()\n",
    "    data_ingestion = DataIngestion(config=data_ingestion_config)\n",
    "    data_ingestion.download()\n",
    "\n",
    "except Exception as e:\n",
    "    raise e"
   ]
  }
 ],
 "metadata": {
  "kernelspec": {
   "display_name": "Python 3",
   "language": "python",
   "name": "python3"
  },
  "language_info": {
   "codemirror_mode": {
    "name": "ipython",
    "version": 3
   },
   "file_extension": ".py",
   "mimetype": "text/x-python",
   "name": "python",
   "nbconvert_exporter": "python",
   "pygments_lexer": "ipython3",
   "version": "3.12.0"
  }
 },
 "nbformat": 4,
 "nbformat_minor": 2
}
